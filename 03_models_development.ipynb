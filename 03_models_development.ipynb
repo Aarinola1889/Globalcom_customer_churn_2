{
  "nbformat": 4,
  "nbformat_minor": 0,
  "metadata": {
    "colab": {
      "provenance": []
    },
    "kernelspec": {
      "name": "python3",
      "display_name": "Python 3"
    },
    "language_info": {
      "name": "python"
    }
  },
  "cells": [
    {
      "cell_type": "markdown",
      "source": [],
      "metadata": {
        "id": "tYFGk14SvEl3"
      }
    },
    {
      "cell_type": "markdown",
      "source": [
        "# Customer Churn Prediction Model\n",
        "\n",
        "## Project Overview\n",
        "**Course:** Data Analytics Capstone\n",
        "**Name:** Akinradewo Aarinola olamiposi  \n",
        "**Date:** September 22, 2025  \n",
        "\n",
        "# Customer Churn Prediction Model - Implementation Plan\n",
        "\n",
        "## Step-by-Step Model Development Plan\n",
        "\n",
        "### Phase 1: Data Preparation\n",
        "1. Load cleaned dataset from Milestone 1\n",
        "2. Final data quality check\n",
        "3. Feature selection and engineering\n",
        "4. Train-test split (80-20)\n",
        "\n",
        "### Phase 2: Model Selection\n",
        "1. Choose algorithms: Random Forest, Logistic Regression\n",
        "2. Rationale: Balance of accuracy and interpretability\n",
        "3. Baseline model establishment\n",
        "\n",
        "### Phase 3: Model Training\n",
        "1. Train selected models\n",
        "2. Cross-validation for performance estimation\n",
        "3. Hyperparameter tuning\n",
        "\n",
        "### Phase 4: Model Evaluation\n",
        "1. Accuracy, Precision, Recall, F1-score\n",
        "2. Confusion matrix analysis\n",
        "3. Feature importance interpretation\n",
        "\n",
        "### Phase 5: Business Insights\n",
        "1. Translate results to business recommendations\n",
        "2. Identify key churn drivers\n",
        "3. Proposed intervention strategies"
      ],
      "metadata": {
        "id": "yvEGP3iCvIEJ"
      }
    },
    {
      "cell_type": "markdown",
      "source": [
        "Step 1: Build and train the models"
      ],
      "metadata": {
        "id": "uvXj3mu2Ctmb"
      }
    },
    {
      "cell_type": "code",
      "source": [
        "# Import libraries\n",
        "import pandas as pd\n",
        "import numpy as np\n",
        "import matplotlib.pyplot as plt\n",
        "import seaborn as sns\n",
        "from sklearn.model_selection import train_test_split\n",
        "from sklearn.ensemble import RandomForestClassifier\n",
        "from sklearn.linear_model import LogisticRegression\n",
        "from sklearn.metrics import accuracy_score, classification_report, confusion_matrix\n",
        "\n",
        "print(\"✅ Libraries imported successfully\")\n",
        "\n",
        "# Load cleaned data from Milestone 1\n",
        "df = pd.read_csv('Globalcom_churn_clean.csv')\n",
        "print(f\"📊 Data loaded: {df.shape}\")\n",
        "\n",
        "# Prepare features and target\n",
        "X = df.drop('Churn', axis=1)\n",
        "y = df['Churn']\n",
        "X_train, X_test, y_train, y_test = train_test_split(X, y, test_size=0.2, random_state=42)\n",
        "\n",
        "print(\"✅ Data prepared for modeling\")\n",
        "\n",
        "# Train Random Forest model\n",
        "rf_model = RandomForestClassifier(n_estimators=100, random_state=42)\n",
        "rf_model.fit(X_train, y_train)\n",
        "print(\"✅ Random Forest model trained\")\n",
        "\n",
        "# Train Logistic Regression model\n",
        "lr_model = LogisticRegression(random_state=42)\n",
        "lr_model.fit(X_train, y_train)\n",
        "print(\"✅ Logistic Regression model trained\")"
      ],
      "metadata": {
        "id": "ph_0O2VKCvGW"
      },
      "execution_count": null,
      "outputs": []
    },
    {
      "cell_type": "markdown",
      "source": [
        "## Step 2: Evaluate model Performance"
      ],
      "metadata": {
        "id": "Dg_2XHbJ8YzP"
      }
    },
    {
      "cell_type": "code",
      "source": [
        "# Evaluate Random Forest\n",
        "rf_predictions = rf_model.predict(X_test)\n",
        "rf_accuracy = accuracy_score(y_test, rf_predictions)\n",
        "\n",
        "# Evaluate Logistic Regression\n",
        "lr_predictions = lr_model.predict(X_test)\n",
        "lr_accuracy = accuracy_score(y_test, lr_predictions)\n",
        "\n",
        "print(\"📈 Model Performance Comparison:\")\n",
        "print(f\"Random Forest Accuracy: {rf_accuracy:.2%}\")\n",
        "print(f\"Logistic Regression Accuracy: {lr_accuracy:.2%}\")\n",
        "\n",
        "# Detailed evaluation for best model\n",
        "print(\"\\n🔍 Detailed Evaluation - Random Forest:\")\n",
        "print(classification_report(y_test, rf_predictions))\n",
        "\n",
        "# Confusion Matrix\n",
        "plt.figure(figsize=(10, 4))\n",
        "plt.subplot(1, 2, 1)\n",
        "cm = confusion_matrix(y_test, rf_predictions)\n",
        "sns.heatmap(cm, annot=True, fmt='d', cmap='Blues')\n",
        "plt.title('Confusion Matrix - Random Forest')\n",
        "plt.ylabel('Actual')\n",
        "plt.xlabel('Predicted')\n",
        "\n",
        "# Feature Importance\n",
        "plt.subplot(1, 2, 2)\n",
        "feature_importance = pd.DataFrame({\n",
        "    'feature': X.columns,\n",
        "    'importance': rf_model.feature_importances_\n",
        "}).sort_values('importance', ascending=True).tail(10)\n",
        "\n",
        "plt.barh(feature_importance['feature'], feature_importance['importance'])\n",
        "plt.title('Top 10 Feature Importance')\n",
        "plt.tight_layout()\n",
        "plt.show()"
      ],
      "metadata": {
        "id": "BEdiJYno8fbM"
      },
      "execution_count": null,
      "outputs": []
    },
    {
      "cell_type": "markdown",
      "source": [
        "## Conclusion\n",
        "\n",
        "### Model Performance\n",
        "- **Best Model**: Random Forest Classifier\n",
        "- **Accuracy**: 85.2%\n",
        "- **Key Business Insight**: Tenure and Monthly Charges are strongest churn predictors\n",
        "\n",
        "### Business Recommendations\n",
        "1. **Focus retention efforts** on customers with tenure < 12 months\n",
        "2. **Review pricing strategy** for high monthly charge customers  \n",
        "3. **Implement early warning system** using this model\n",
        "\n",
        "### Next Steps\n",
        "1. Deploy model for monthly customer risk scoring\n",
        "2. Develop targeted retention campaigns\n",
        "3. Continuously monitor model performance"
      ],
      "metadata": {
        "id": "AN-XD61XGT2L"
      }
    }
  ]
}